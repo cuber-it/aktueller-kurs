{
 "cells": [
  {
   "cell_type": "markdown",
   "metadata": {},
   "source": [
    "# Beispiel für Datenanalyse"
   ]
  },
  {
   "cell_type": "code",
   "execution_count": 2,
   "metadata": {},
   "outputs": [],
   "source": [
    "import pandas as pd\n",
    "\n",
    "path = r\"E:\\Workspaces\\Kurse\\aktueller-kurs\\Material\\WA_Fn-UseC_-Telco-Customer-Churn.csv\""
   ]
  },
  {
   "cell_type": "markdown",
   "metadata": {},
   "source": [
    "## Hilfsfunktionen"
   ]
  },
  {
   "cell_type": "code",
   "execution_count": null,
   "metadata": {},
   "outputs": [],
   "source": [
    "def data_repair(df):\n",
    "    # Das geht sicher auch in pandas oder numpy, aber wir haben es selbst gemacht, da einfacher :-D\n",
    "    daten = df.to_dict(orient=\"records\")\n",
    "    for row in daten:\n",
    "        try:\n",
    "            row[\"TotalCharges\"] = float(row[\"TotalCharges\"])\n",
    "        except ValueError:\n",
    "            row[\"TotalCharges\"] = int(row[\"tenure\"]) * float(row[\"MonthlyCharges\"])\n",
    "    return pd.DataFrame(daten)\n",
    "\n",
    "def filter_missing_values(df):\n",
    "    df = df[df[\"TotalCharges\"] != \" \"]\n",
    "    df[\"TotalCharges\"] = pd.to_numeric(df[\"TotalCharges\"])\n",
    "    return df"
   ]
  },
  {
   "cell_type": "markdown",
   "metadata": {},
   "source": [
    "## Daten einlesen"
   ]
  },
  {
   "cell_type": "code",
   "execution_count": null,
   "metadata": {},
   "outputs": [],
   "source": [
    "df = pd.read_csv(path)\n",
    "df_kosten = df[[\"tenure\", \"MonthlyCharges\", \"TotalCharges\"]]"
   ]
  },
  {
   "cell_type": "markdown",
   "metadata": {},
   "source": [
    "## Voranalyse"
   ]
  },
  {
   "cell_type": "code",
   "execution_count": null,
   "metadata": {},
   "outputs": [],
   "source": [
    "print(df_kosten.dtypes)\n",
    "print(df_kosten[df_kosten['TotalCharges'] == ' '].index)"
   ]
  },
  {
   "cell_type": "markdown",
   "metadata": {},
   "source": [
    "## Vergleich Korrekturverfahren"
   ]
  },
  {
   "cell_type": "code",
   "execution_count": null,
   "metadata": {},
   "outputs": [],
   "source": [
    "df_kosten_1 = filter_missing_values(df_kosten)\n",
    "df_kosten_2 = data_repair(df_kosten)\n"
   ]
  },
  {
   "cell_type": "markdown",
   "metadata": {},
   "source": [
    "## Auswertung Korrekturegebnisse"
   ]
  },
  {
   "cell_type": "code",
   "execution_count": null,
   "metadata": {},
   "outputs": [],
   "source": [
    "print(len(df_kosten_1))\n",
    "print(len(df_kosten_2))\n"
   ]
  }
 ],
 "metadata": {
  "kernelspec": {
   "display_name": "venv",
   "language": "python",
   "name": "python3"
  },
  "language_info": {
   "codemirror_mode": {
    "name": "ipython",
    "version": 3
   },
   "file_extension": ".py",
   "mimetype": "text/x-python",
   "name": "python",
   "nbconvert_exporter": "python",
   "pygments_lexer": "ipython3",
   "version": "3.10.5"
  },
  "orig_nbformat": 4
 },
 "nbformat": 4,
 "nbformat_minor": 2
}
